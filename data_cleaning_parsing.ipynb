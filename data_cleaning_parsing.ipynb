{
 "cells": [
  {
   "cell_type": "markdown",
   "id": "05514a71",
   "metadata": {},
   "source": [
    "# НКРЯ"
   ]
  },
  {
   "cell_type": "code",
   "execution_count": 1,
   "id": "7156a8fd",
   "metadata": {},
   "outputs": [],
   "source": [
    "import pandas as pd"
   ]
  },
  {
   "cell_type": "markdown",
   "id": "cc7fd5d6",
   "metadata": {},
   "source": [
    "Сначала было 2 датасета НКРЯ (pos polarity и neg polarity):"
   ]
  },
  {
   "cell_type": "code",
   "execution_count": 2,
   "id": "17b7e501",
   "metadata": {},
   "outputs": [],
   "source": [
    "df_pos = pd.read_csv('ruscorpora_content_pos.csv', on_bad_lines='skip')\n",
    "df_neg = pd.read_csv('ruscorpora_content_neg.csv', on_bad_lines='skip')"
   ]
  },
  {
   "cell_type": "code",
   "execution_count": 3,
   "id": "b69f1553",
   "metadata": {},
   "outputs": [
    {
     "data": {
      "text/html": [
       "<div>\n",
       "<style scoped>\n",
       "    .dataframe tbody tr th:only-of-type {\n",
       "        vertical-align: middle;\n",
       "    }\n",
       "\n",
       "    .dataframe tbody tr th {\n",
       "        vertical-align: top;\n",
       "    }\n",
       "\n",
       "    .dataframe thead th {\n",
       "        text-align: right;\n",
       "    }\n",
       "</style>\n",
       "<table border=\"1\" class=\"dataframe\">\n",
       "  <thead>\n",
       "    <tr style=\"text-align: right;\">\n",
       "      <th></th>\n",
       "      <th>Right context</th>\n",
       "      <th>Title</th>\n",
       "      <th>Created</th>\n",
       "      <th>Sphere</th>\n",
       "      <th>Type</th>\n",
       "      <th>Publ_year</th>\n",
       "      <th>Medium</th>\n",
       "      <th>Full context</th>\n",
       "    </tr>\n",
       "  </thead>\n",
       "  <tbody>\n",
       "    <tr>\n",
       "      <th>0</th>\n",
       "      <td>осилили бы французы и буде бы</td>\n",
       "      <td>Ф. Ф. Ушаков. Письмо В. С. Томаре с характерис...</td>\n",
       "      <td>1799.04.09</td>\n",
       "      <td>официально-деловая | нехудожественная</td>\n",
       "      <td>письмо деловое</td>\n",
       "      <td>2004</td>\n",
       "      <td>книга</td>\n",
       "      <td>Ежели здешняя сторона от французов будет очище...</td>\n",
       "    </tr>\n",
       "    <tr>\n",
       "      <th>1</th>\n",
       "      <td>осилит прежнее; тогда оное делается чрезвычайно</td>\n",
       "      <td>Г. М. Давыдов. Дневник (1802)</td>\n",
       "      <td>1802</td>\n",
       "      <td>публицистика | нехудожественная</td>\n",
       "      <td>дневник, записные книжки</td>\n",
       "      <td>1812</td>\n",
       "      <td>книга</td>\n",
       "      <td>Сие продолжается до того времени, как новое те...</td>\n",
       "    </tr>\n",
       "    <tr>\n",
       "      <th>2</th>\n",
       "      <td>осилит прежнее тогда оное делается чрезвычайно</td>\n",
       "      <td>Г. И. Давыдов. Двукратное путешествие в Америк...</td>\n",
       "      <td>1808-1809</td>\n",
       "      <td>публицистика | нехудожественная</td>\n",
       "      <td>очерк</td>\n",
       "      <td>1810</td>\n",
       "      <td>книга</td>\n",
       "      <td>Сие продолжается до того времени, как новое те...</td>\n",
       "    </tr>\n",
       "  </tbody>\n",
       "</table>\n",
       "</div>"
      ],
      "text/plain": [
       "                                     Right context  \\\n",
       "0                    осилили бы французы и буде бы   \n",
       "1  осилит прежнее; тогда оное делается чрезвычайно   \n",
       "2   осилит прежнее тогда оное делается чрезвычайно   \n",
       "\n",
       "                                               Title     Created  \\\n",
       "0  Ф. Ф. Ушаков. Письмо В. С. Томаре с характерис...  1799.04.09   \n",
       "1                      Г. М. Давыдов. Дневник (1802)        1802   \n",
       "2  Г. И. Давыдов. Двукратное путешествие в Америк...   1808-1809   \n",
       "\n",
       "                                  Sphere                      Type Publ_year  \\\n",
       "0  официально-деловая | нехудожественная            письмо деловое      2004   \n",
       "1        публицистика | нехудожественная  дневник, записные книжки      1812   \n",
       "2        публицистика | нехудожественная                     очерк      1810   \n",
       "\n",
       "  Medium                                       Full context  \n",
       "0  книга  Ежели здешняя сторона от французов будет очище...  \n",
       "1  книга  Сие продолжается до того времени, как новое те...  \n",
       "2  книга  Сие продолжается до того времени, как новое те...  "
      ]
     },
     "execution_count": 3,
     "metadata": {},
     "output_type": "execute_result"
    }
   ],
   "source": [
    "df_pos.head(3)"
   ]
  },
  {
   "cell_type": "code",
   "execution_count": 4,
   "id": "335b5052",
   "metadata": {},
   "outputs": [],
   "source": [
    "df1 = df_pos[['Right context', 'Full context', 'Created', 'Title', 'Sphere', 'Medium']]"
   ]
  },
  {
   "cell_type": "markdown",
   "id": "8a2a9008",
   "metadata": {},
   "source": [
    "Добавили колонку polarity и pos значение."
   ]
  },
  {
   "cell_type": "code",
   "execution_count": 5,
   "id": "ed57a7cd",
   "metadata": {},
   "outputs": [
    {
     "name": "stderr",
     "output_type": "stream",
     "text": [
      "/tmp/ipykernel_104944/3577815684.py:1: SettingWithCopyWarning: \n",
      "A value is trying to be set on a copy of a slice from a DataFrame.\n",
      "Try using .loc[row_indexer,col_indexer] = value instead\n",
      "\n",
      "See the caveats in the documentation: https://pandas.pydata.org/pandas-docs/stable/user_guide/indexing.html#returning-a-view-versus-a-copy\n",
      "  df1[\"polarity\"] = ['pos' for i in range(len(df1['Title']))]\n"
     ]
    },
    {
     "data": {
      "text/plain": [
       "polarity         0\n",
       "Right context    0\n",
       "Full context     0\n",
       "Created          0\n",
       "Title            0\n",
       "Sphere           0\n",
       "Medium           6\n",
       "dtype: int64"
      ]
     },
     "execution_count": 5,
     "metadata": {},
     "output_type": "execute_result"
    }
   ],
   "source": [
    "df1[\"polarity\"] = ['pos' for i in range(len(df1['Title']))]\n",
    "df1 = df1[['polarity', 'Right context', 'Full context', 'Created', 'Title', 'Sphere', 'Medium']]\n",
    "df1.isnull().sum()"
   ]
  },
  {
   "cell_type": "markdown",
   "id": "96527ca9",
   "metadata": {},
   "source": [
    "Добавили колонку polarity и neg значение."
   ]
  },
  {
   "cell_type": "code",
   "execution_count": 6,
   "id": "1c69c96b",
   "metadata": {},
   "outputs": [],
   "source": [
    "df_neg[\"polarity\"] = ['neg' for i in range(len(df_neg['Title']))]\n",
    "df2 = df_neg[['polarity', 'Right context', 'Full context', 'Created', 'Title', 'Sphere', 'Medium']]"
   ]
  },
  {
   "cell_type": "markdown",
   "id": "2cb320ac",
   "metadata": {},
   "source": [
    "Смерджили в один датасет."
   ]
  },
  {
   "cell_type": "code",
   "execution_count": 7,
   "id": "5b5e66f0",
   "metadata": {},
   "outputs": [
    {
     "name": "stderr",
     "output_type": "stream",
     "text": [
      "/tmp/ipykernel_104944/1633729481.py:1: FutureWarning: The frame.append method is deprecated and will be removed from pandas in a future version. Use pandas.concat instead.\n",
      "  df_final = df1.append(df2)\n"
     ]
    }
   ],
   "source": [
    "df_final = df1.append(df2)\n",
    "df_final[\"center\"] = [s.split()[0] for s in df_final['Right context']]"
   ]
  },
  {
   "cell_type": "code",
   "execution_count": 8,
   "id": "710708b9",
   "metadata": {},
   "outputs": [
    {
     "data": {
      "text/html": [
       "<div>\n",
       "<style scoped>\n",
       "    .dataframe tbody tr th:only-of-type {\n",
       "        vertical-align: middle;\n",
       "    }\n",
       "\n",
       "    .dataframe tbody tr th {\n",
       "        vertical-align: top;\n",
       "    }\n",
       "\n",
       "    .dataframe thead th {\n",
       "        text-align: right;\n",
       "    }\n",
       "</style>\n",
       "<table border=\"1\" class=\"dataframe\">\n",
       "  <thead>\n",
       "    <tr style=\"text-align: right;\">\n",
       "      <th></th>\n",
       "      <th>polarity</th>\n",
       "      <th>center</th>\n",
       "      <th>Right context</th>\n",
       "      <th>Full context</th>\n",
       "      <th>Created</th>\n",
       "      <th>Title</th>\n",
       "      <th>Sphere</th>\n",
       "      <th>Medium</th>\n",
       "    </tr>\n",
       "  </thead>\n",
       "  <tbody>\n",
       "    <tr>\n",
       "      <th>0</th>\n",
       "      <td>pos</td>\n",
       "      <td>осилили</td>\n",
       "      <td>осилили бы французы и буде бы</td>\n",
       "      <td>Ежели здешняя сторона от французов будет очище...</td>\n",
       "      <td>1799.04.09</td>\n",
       "      <td>Ф. Ф. Ушаков. Письмо В. С. Томаре с характерис...</td>\n",
       "      <td>официально-деловая | нехудожественная</td>\n",
       "      <td>книга</td>\n",
       "    </tr>\n",
       "    <tr>\n",
       "      <th>1</th>\n",
       "      <td>pos</td>\n",
       "      <td>осилит</td>\n",
       "      <td>осилит прежнее; тогда оное делается чрезвычайно</td>\n",
       "      <td>Сие продолжается до того времени, как новое те...</td>\n",
       "      <td>1802</td>\n",
       "      <td>Г. М. Давыдов. Дневник (1802)</td>\n",
       "      <td>публицистика | нехудожественная</td>\n",
       "      <td>книга</td>\n",
       "    </tr>\n",
       "    <tr>\n",
       "      <th>2</th>\n",
       "      <td>pos</td>\n",
       "      <td>осилит</td>\n",
       "      <td>осилит прежнее тогда оное делается чрезвычайно</td>\n",
       "      <td>Сие продолжается до того времени, как новое те...</td>\n",
       "      <td>1808-1809</td>\n",
       "      <td>Г. И. Давыдов. Двукратное путешествие в Америк...</td>\n",
       "      <td>публицистика | нехудожественная</td>\n",
       "      <td>книга</td>\n",
       "    </tr>\n",
       "  </tbody>\n",
       "</table>\n",
       "</div>"
      ],
      "text/plain": [
       "  polarity   center                                    Right context  \\\n",
       "0      pos  осилили                    осилили бы французы и буде бы   \n",
       "1      pos   осилит  осилит прежнее; тогда оное делается чрезвычайно   \n",
       "2      pos   осилит   осилит прежнее тогда оное делается чрезвычайно   \n",
       "\n",
       "                                        Full context     Created  \\\n",
       "0  Ежели здешняя сторона от французов будет очище...  1799.04.09   \n",
       "1  Сие продолжается до того времени, как новое те...        1802   \n",
       "2  Сие продолжается до того времени, как новое те...   1808-1809   \n",
       "\n",
       "                                               Title  \\\n",
       "0  Ф. Ф. Ушаков. Письмо В. С. Томаре с характерис...   \n",
       "1                      Г. М. Давыдов. Дневник (1802)   \n",
       "2  Г. И. Давыдов. Двукратное путешествие в Америк...   \n",
       "\n",
       "                                  Sphere Medium  \n",
       "0  официально-деловая | нехудожественная  книга  \n",
       "1        публицистика | нехудожественная  книга  \n",
       "2        публицистика | нехудожественная  книга  "
      ]
     },
     "execution_count": 8,
     "metadata": {},
     "output_type": "execute_result"
    }
   ],
   "source": [
    "df_final = df_final[['polarity', 'center', 'Right context', 'Full context', 'Created', 'Title', 'Sphere', 'Medium']]\n",
    "df_final.head(3)"
   ]
  },
  {
   "cell_type": "code",
   "execution_count": 11,
   "id": "50d13bae",
   "metadata": {},
   "outputs": [],
   "source": [
    "final_df.to_csv('file_name.csv', encoding='utf-8')"
   ]
  },
  {
   "cell_type": "markdown",
   "id": "6a1dab31",
   "metadata": {},
   "source": [
    "Доработали -- вручную добавили субъект, объект."
   ]
  },
  {
   "cell_type": "code",
   "execution_count": 12,
   "id": "907bb327",
   "metadata": {},
   "outputs": [],
   "source": [
    "worked = pd.read_csv('data.csv')"
   ]
  },
  {
   "cell_type": "code",
   "execution_count": 13,
   "id": "83d4ee96",
   "metadata": {},
   "outputs": [],
   "source": [
    "worked = worked[['X', 'polarity', 'center', 'Y', 'Full context', 'Created', 'Title', 'Sphere', 'Medium']]"
   ]
  },
  {
   "cell_type": "code",
   "execution_count": 14,
   "id": "b28a38d5",
   "metadata": {},
   "outputs": [],
   "source": [
    "work = worked.sort_values(by=['Created'], ascending=True)"
   ]
  },
  {
   "cell_type": "code",
   "execution_count": 15,
   "id": "21c133ad",
   "metadata": {},
   "outputs": [],
   "source": [
    "import numpy as np"
   ]
  },
  {
   "cell_type": "code",
   "execution_count": 16,
   "id": "1c99c6d7",
   "metadata": {},
   "outputs": [],
   "source": [
    "work['Y'] = work['Y'].replace('None', np.NaN)"
   ]
  },
  {
   "cell_type": "code",
   "execution_count": 17,
   "id": "b49e1f6c",
   "metadata": {},
   "outputs": [
    {
     "data": {
      "text/html": [
       "<div>\n",
       "<style scoped>\n",
       "    .dataframe tbody tr th:only-of-type {\n",
       "        vertical-align: middle;\n",
       "    }\n",
       "\n",
       "    .dataframe tbody tr th {\n",
       "        vertical-align: top;\n",
       "    }\n",
       "\n",
       "    .dataframe thead th {\n",
       "        text-align: right;\n",
       "    }\n",
       "</style>\n",
       "<table border=\"1\" class=\"dataframe\">\n",
       "  <thead>\n",
       "    <tr style=\"text-align: right;\">\n",
       "      <th></th>\n",
       "      <th>X</th>\n",
       "      <th>polarity</th>\n",
       "      <th>center</th>\n",
       "      <th>Y</th>\n",
       "      <th>Full context</th>\n",
       "      <th>Created</th>\n",
       "      <th>Title</th>\n",
       "      <th>Sphere</th>\n",
       "      <th>Medium</th>\n",
       "    </tr>\n",
       "  </thead>\n",
       "  <tbody>\n",
       "    <tr>\n",
       "      <th>4</th>\n",
       "      <td>французы</td>\n",
       "      <td>pos</td>\n",
       "      <td>осилили бы</td>\n",
       "      <td>NaN</td>\n",
       "      <td>Ежели здешняя сторона от французов будет очище...</td>\n",
       "      <td>1799</td>\n",
       "      <td>Ф. Ф. Ушаков. Письмо В. С. Томаре с характерис...</td>\n",
       "      <td>официально-деловая | нехудожественная</td>\n",
       "      <td>книга</td>\n",
       "    </tr>\n",
       "    <tr>\n",
       "      <th>5</th>\n",
       "      <td>течение</td>\n",
       "      <td>pos</td>\n",
       "      <td>осилит</td>\n",
       "      <td>течение</td>\n",
       "      <td>Сие продолжается до того времени, как новое те...</td>\n",
       "      <td>1802</td>\n",
       "      <td>Г. М. Давыдов. Дневник (1802)</td>\n",
       "      <td>публицистика | нехудожественная</td>\n",
       "      <td>книга</td>\n",
       "    </tr>\n",
       "    <tr>\n",
       "      <th>6</th>\n",
       "      <td>наши, [люди]</td>\n",
       "      <td>pos</td>\n",
       "      <td>осилили</td>\n",
       "      <td>NaN</td>\n",
       "      <td>Неприятель, получая по дороге в подкрепление с...</td>\n",
       "      <td>1812</td>\n",
       "      <td>Ф. В. Самарин. Дневник (1812)</td>\n",
       "      <td>бытовая | нехудожественная</td>\n",
       "      <td>прочая печатная продукция</td>\n",
       "    </tr>\n",
       "  </tbody>\n",
       "</table>\n",
       "</div>"
      ],
      "text/plain": [
       "              X polarity      center        Y  \\\n",
       "4      французы      pos  осилили бы      NaN   \n",
       "5       течение      pos      осилит  течение   \n",
       "6  наши, [люди]      pos     осилили      NaN   \n",
       "\n",
       "                                        Full context  Created  \\\n",
       "4  Ежели здешняя сторона от французов будет очище...     1799   \n",
       "5  Сие продолжается до того времени, как новое те...     1802   \n",
       "6  Неприятель, получая по дороге в подкрепление с...     1812   \n",
       "\n",
       "                                               Title  \\\n",
       "4  Ф. Ф. Ушаков. Письмо В. С. Томаре с характерис...   \n",
       "5                      Г. М. Давыдов. Дневник (1802)   \n",
       "6                      Ф. В. Самарин. Дневник (1812)   \n",
       "\n",
       "                                  Sphere                     Medium  \n",
       "4  официально-деловая | нехудожественная                      книга  \n",
       "5        публицистика | нехудожественная                      книга  \n",
       "6             бытовая | нехудожественная  прочая печатная продукция  "
      ]
     },
     "execution_count": 17,
     "metadata": {},
     "output_type": "execute_result"
    }
   ],
   "source": [
    "work.head(3)"
   ]
  },
  {
   "cell_type": "markdown",
   "id": "bb146efd",
   "metadata": {},
   "source": [
    "### pymorphy2"
   ]
  },
  {
   "cell_type": "code",
   "execution_count": 22,
   "id": "64a6145c",
   "metadata": {},
   "outputs": [],
   "source": [
    "import pymorphy2"
   ]
  },
  {
   "cell_type": "code",
   "execution_count": 23,
   "id": "2b1250dc",
   "metadata": {},
   "outputs": [],
   "source": [
    "morph = pymorphy2.MorphAnalyzer()"
   ]
  },
  {
   "cell_type": "markdown",
   "id": "7211811d",
   "metadata": {},
   "source": [
    "Тег - это набор граммем, характеризующих данное слово. Например, тег 'VERB,perf,intr plur,past,indc' означает, что слово - глагол (VERB) совершенного вида (perf), непереходный (intr), множественного числа (plur), прошедшего времени (past), изъявительного наклонения (indc)."
   ]
  },
  {
   "cell_type": "code",
   "execution_count": 30,
   "id": "42a3ada0",
   "metadata": {},
   "outputs": [],
   "source": [
    "n = []\n",
    "t = []\n",
    "asp = []\n",
    "form = []\n",
    "for s in work['center']:\n",
    "    s = s.split()\n",
    "    s = s[0]\n",
    "    p = morph.parse(s)[0]\n",
    "    form.append(p.normal_form)\n",
    "    n.append(p.tag.number)\n",
    "    t.append(p.tag.tense)\n",
    "    asp.append(p.tag.aspect)\n",
    "\n",
    "# добавляем глагольную разметку\n",
    "work[\"normalized\"] = form\n",
    "work['aspect'] = asp\n",
    "work['tense'] = t\n",
    "work['number'] = n"
   ]
  },
  {
   "cell_type": "code",
   "execution_count": 31,
   "id": "6bd4bb12",
   "metadata": {},
   "outputs": [],
   "source": [
    "work = work[['X', 'polarity', 'center', 'normalized', 'aspect', 'tense', 'number', 'Y', 'Full context', 'Created', 'Title', 'Sphere', 'Medium']]"
   ]
  },
  {
   "cell_type": "code",
   "execution_count": 32,
   "id": "3ff92e86",
   "metadata": {},
   "outputs": [],
   "source": [
    "#work.to_csv('work.csv', encoding='utf-8')"
   ]
  },
  {
   "cell_type": "code",
   "execution_count": 34,
   "id": "28aa0ffb",
   "metadata": {},
   "outputs": [
    {
     "data": {
      "text/plain": [
       "array(['осилить', 'осиливать', 'осилитъ', 'осилю,', 'осилимъ', 'осилютый',\n",
       "       'осилять'], dtype=object)"
      ]
     },
     "execution_count": 34,
     "metadata": {},
     "output_type": "execute_result"
    }
   ],
   "source": [
    "work['normalized'].unique()"
   ]
  },
  {
   "cell_type": "markdown",
   "id": "54f8397e",
   "metadata": {},
   "source": [
    "## manually checked"
   ]
  },
  {
   "cell_type": "code",
   "execution_count": 35,
   "id": "f9288796",
   "metadata": {},
   "outputs": [],
   "source": [
    "w2 = pd.read_csv('work2.csv')"
   ]
  },
  {
   "cell_type": "code",
   "execution_count": 36,
   "id": "02499712",
   "metadata": {},
   "outputs": [],
   "source": [
    "w2['center'] = w2['center'].str.lower()"
   ]
  },
  {
   "cell_type": "code",
   "execution_count": 47,
   "id": "f8442f2c",
   "metadata": {},
   "outputs": [],
   "source": [
    "pos = []\n",
    "case = []\n",
    "anim = []\n",
    "\n",
    "for s in work['Y']:\n",
    "    if s is None:\n",
    "        pos.append(np.NaN)\n",
    "        case.append(np.NaN)\n",
    "        anim.append(np.NaN)\n",
    "    else:\n",
    "        try:\n",
    "            p = morph.parse(s)[0]\n",
    "            pos.append(p.tag.POS)\n",
    "            case.append(p.tag.case)\n",
    "            anim.append(p.tag.animacy)\n",
    "        except AttributeError:\n",
    "            pos.append(np.NaN)\n",
    "            case.append(np.NaN)\n",
    "            anim.append(np.NaN)\n",
    "            \n",
    "# добавляем разметку по объекту\n",
    "w2[\"Y_animacy\"] = anim\n",
    "w2['Y_case'] = case\n",
    "w2['Y_POS'] = pos"
   ]
  },
  {
   "cell_type": "code",
   "execution_count": 48,
   "id": "c982118b",
   "metadata": {},
   "outputs": [
    {
     "data": {
      "text/html": [
       "<div>\n",
       "<style scoped>\n",
       "    .dataframe tbody tr th:only-of-type {\n",
       "        vertical-align: middle;\n",
       "    }\n",
       "\n",
       "    .dataframe tbody tr th {\n",
       "        vertical-align: top;\n",
       "    }\n",
       "\n",
       "    .dataframe thead th {\n",
       "        text-align: right;\n",
       "    }\n",
       "</style>\n",
       "<table border=\"1\" class=\"dataframe\">\n",
       "  <thead>\n",
       "    <tr style=\"text-align: right;\">\n",
       "      <th></th>\n",
       "      <th>X</th>\n",
       "      <th>polarity</th>\n",
       "      <th>center</th>\n",
       "      <th>normalized</th>\n",
       "      <th>aspect</th>\n",
       "      <th>tense</th>\n",
       "      <th>number</th>\n",
       "      <th>Y</th>\n",
       "      <th>Y_POS</th>\n",
       "      <th>Y_animacy</th>\n",
       "      <th>Y_case</th>\n",
       "      <th>Full context</th>\n",
       "      <th>Created</th>\n",
       "      <th>Title</th>\n",
       "      <th>Sphere</th>\n",
       "      <th>Medium</th>\n",
       "    </tr>\n",
       "  </thead>\n",
       "  <tbody>\n",
       "    <tr>\n",
       "      <th>0</th>\n",
       "      <td>французы</td>\n",
       "      <td>pos</td>\n",
       "      <td>осилили бы</td>\n",
       "      <td>осилить</td>\n",
       "      <td>perf</td>\n",
       "      <td>past</td>\n",
       "      <td>plur</td>\n",
       "      <td>NaN</td>\n",
       "      <td>NaN</td>\n",
       "      <td>NaN</td>\n",
       "      <td>NaN</td>\n",
       "      <td>Ежели здешняя сторона от французов будет очище...</td>\n",
       "      <td>1799</td>\n",
       "      <td>Ф. Ф. Ушаков. Письмо В. С. Томаре с характерис...</td>\n",
       "      <td>официально-деловая | нехудожественная</td>\n",
       "      <td>книга</td>\n",
       "    </tr>\n",
       "    <tr>\n",
       "      <th>1</th>\n",
       "      <td>течение</td>\n",
       "      <td>pos</td>\n",
       "      <td>осилит</td>\n",
       "      <td>осилить</td>\n",
       "      <td>perf</td>\n",
       "      <td>futr</td>\n",
       "      <td>sing</td>\n",
       "      <td>течение</td>\n",
       "      <td>NOUN</td>\n",
       "      <td>inan</td>\n",
       "      <td>accs</td>\n",
       "      <td>Сие продолжается до того времени, как новое те...</td>\n",
       "      <td>1802</td>\n",
       "      <td>Г. М. Давыдов. Дневник (1802)</td>\n",
       "      <td>публицистика | нехудожественная</td>\n",
       "      <td>книга</td>\n",
       "    </tr>\n",
       "    <tr>\n",
       "      <th>2</th>\n",
       "      <td>наши, [люди]</td>\n",
       "      <td>pos</td>\n",
       "      <td>осилили</td>\n",
       "      <td>осилить</td>\n",
       "      <td>perf</td>\n",
       "      <td>past</td>\n",
       "      <td>plur</td>\n",
       "      <td>NaN</td>\n",
       "      <td>NaN</td>\n",
       "      <td>NaN</td>\n",
       "      <td>NaN</td>\n",
       "      <td>Неприятель, получая по дороге в подкрепление с...</td>\n",
       "      <td>1812</td>\n",
       "      <td>Ф. В. Самарин. Дневник (1812)</td>\n",
       "      <td>бытовая | нехудожественная</td>\n",
       "      <td>прочая печатная продукция</td>\n",
       "    </tr>\n",
       "  </tbody>\n",
       "</table>\n",
       "</div>"
      ],
      "text/plain": [
       "              X polarity      center normalized aspect tense number        Y  \\\n",
       "0      французы      pos  осилили бы    осилить   perf  past   plur      NaN   \n",
       "1       течение      pos      осилит    осилить   perf  futr   sing  течение   \n",
       "2  наши, [люди]      pos     осилили    осилить   perf  past   plur      NaN   \n",
       "\n",
       "  Y_POS Y_animacy Y_case                                       Full context  \\\n",
       "0   NaN       NaN    NaN  Ежели здешняя сторона от французов будет очище...   \n",
       "1  NOUN      inan   accs  Сие продолжается до того времени, как новое те...   \n",
       "2   NaN       NaN    NaN  Неприятель, получая по дороге в подкрепление с...   \n",
       "\n",
       "   Created                                              Title  \\\n",
       "0     1799  Ф. Ф. Ушаков. Письмо В. С. Томаре с характерис...   \n",
       "1     1802                      Г. М. Давыдов. Дневник (1802)   \n",
       "2     1812                      Ф. В. Самарин. Дневник (1812)   \n",
       "\n",
       "                                  Sphere                     Medium  \n",
       "0  официально-деловая | нехудожественная                      книга  \n",
       "1        публицистика | нехудожественная                      книга  \n",
       "2             бытовая | нехудожественная  прочая печатная продукция  "
      ]
     },
     "execution_count": 48,
     "metadata": {},
     "output_type": "execute_result"
    }
   ],
   "source": [
    "w2 = w2[['X', 'polarity', 'center', 'normalized', 'aspect', 'tense', 'number', 'Y', 'Y_POS', \"Y_animacy\", 'Y_case', 'Full context', 'Created', 'Title', 'Sphere', 'Medium']]\n",
    "w2.head(3)"
   ]
  },
  {
   "cell_type": "code",
   "execution_count": 151,
   "id": "5342725d",
   "metadata": {},
   "outputs": [],
   "source": [
    "w2.to_csv('w2.csv', encoding='utf-8')"
   ]
  },
  {
   "cell_type": "markdown",
   "id": "eb92755f",
   "metadata": {},
   "source": [
    "## С разметкой"
   ]
  },
  {
   "cell_type": "code",
   "execution_count": 79,
   "id": "688c8bb4",
   "metadata": {},
   "outputs": [],
   "source": [
    "df = pd.read_csv('w_final.csv')"
   ]
  },
  {
   "cell_type": "code",
   "execution_count": 80,
   "id": "01e26cb8",
   "metadata": {},
   "outputs": [
    {
     "data": {
      "text/html": [
       "<div>\n",
       "<style scoped>\n",
       "    .dataframe tbody tr th:only-of-type {\n",
       "        vertical-align: middle;\n",
       "    }\n",
       "\n",
       "    .dataframe tbody tr th {\n",
       "        vertical-align: top;\n",
       "    }\n",
       "\n",
       "    .dataframe thead th {\n",
       "        text-align: right;\n",
       "    }\n",
       "</style>\n",
       "<table border=\"1\" class=\"dataframe\">\n",
       "  <thead>\n",
       "    <tr style=\"text-align: right;\">\n",
       "      <th></th>\n",
       "      <th>X</th>\n",
       "      <th>polarity</th>\n",
       "      <th>center</th>\n",
       "      <th>normalized</th>\n",
       "      <th>aspect</th>\n",
       "      <th>tense</th>\n",
       "      <th>number</th>\n",
       "      <th>Y</th>\n",
       "      <th>Y_POS</th>\n",
       "      <th>Y_number</th>\n",
       "      <th>Y_animacy</th>\n",
       "      <th>Y_case</th>\n",
       "      <th>Full context</th>\n",
       "      <th>Created</th>\n",
       "      <th>Title</th>\n",
       "      <th>Sphere</th>\n",
       "      <th>Medium</th>\n",
       "    </tr>\n",
       "  </thead>\n",
       "  <tbody>\n",
       "    <tr>\n",
       "      <th>0</th>\n",
       "      <td>французы</td>\n",
       "      <td>pos</td>\n",
       "      <td>осилили бы</td>\n",
       "      <td>осилить</td>\n",
       "      <td>perf</td>\n",
       "      <td>past</td>\n",
       "      <td>plur</td>\n",
       "      <td>NaN</td>\n",
       "      <td>NaN</td>\n",
       "      <td>NaN</td>\n",
       "      <td>NaN</td>\n",
       "      <td>NaN</td>\n",
       "      <td>Ежели здешняя сторона от французов будет очище...</td>\n",
       "      <td>1799</td>\n",
       "      <td>Ф. Ф. Ушаков. Письмо В. С. Томаре с характерис...</td>\n",
       "      <td>официально-деловая | нехудожественная</td>\n",
       "      <td>книга</td>\n",
       "    </tr>\n",
       "    <tr>\n",
       "      <th>1</th>\n",
       "      <td>течение</td>\n",
       "      <td>pos</td>\n",
       "      <td>осилит</td>\n",
       "      <td>осилить</td>\n",
       "      <td>perf</td>\n",
       "      <td>futr</td>\n",
       "      <td>sing</td>\n",
       "      <td>течение</td>\n",
       "      <td>NOUN</td>\n",
       "      <td>sing</td>\n",
       "      <td>inan</td>\n",
       "      <td>accs</td>\n",
       "      <td>Сие продолжается до того времени, как новое те...</td>\n",
       "      <td>1802</td>\n",
       "      <td>Г. М. Давыдов. Дневник (1802)</td>\n",
       "      <td>публицистика | нехудожественная</td>\n",
       "      <td>книга</td>\n",
       "    </tr>\n",
       "  </tbody>\n",
       "</table>\n",
       "</div>"
      ],
      "text/plain": [
       "          X polarity      center normalized aspect tense number        Y  \\\n",
       "0  французы      pos  осилили бы    осилить   perf  past   plur      NaN   \n",
       "1   течение      pos      осилит    осилить   perf  futr   sing  течение   \n",
       "\n",
       "  Y_POS Y_number Y_animacy Y_case  \\\n",
       "0   NaN      NaN       NaN    NaN   \n",
       "1  NOUN     sing      inan   accs   \n",
       "\n",
       "                                        Full context  Created  \\\n",
       "0  Ежели здешняя сторона от французов будет очище...     1799   \n",
       "1  Сие продолжается до того времени, как новое те...     1802   \n",
       "\n",
       "                                               Title  \\\n",
       "0  Ф. Ф. Ушаков. Письмо В. С. Томаре с характерис...   \n",
       "1                      Г. М. Давыдов. Дневник (1802)   \n",
       "\n",
       "                                  Sphere Medium  \n",
       "0  официально-деловая | нехудожественная  книга  \n",
       "1        публицистика | нехудожественная  книга  "
      ]
     },
     "execution_count": 80,
     "metadata": {},
     "output_type": "execute_result"
    }
   ],
   "source": [
    "df.head(2)"
   ]
  },
  {
   "cell_type": "markdown",
   "id": "d1b5ae28",
   "metadata": {},
   "source": [
    "## Оставляем только конструкцию "
   ]
  },
  {
   "cell_type": "code",
   "execution_count": 87,
   "id": "cc365bb3",
   "metadata": {},
   "outputs": [],
   "source": [
    "d = df[df['Y_POS'].notna()]"
   ]
  },
  {
   "cell_type": "code",
   "execution_count": 89,
   "id": "bb28b511",
   "metadata": {},
   "outputs": [],
   "source": [
    "d.to_csv('construction.csv', encoding='utf-8')"
   ]
  },
  {
   "cell_type": "markdown",
   "id": "75c809ed",
   "metadata": {},
   "source": [
    "# Twitter"
   ]
  },
  {
   "cell_type": "markdown",
   "id": "809b113d",
   "metadata": {},
   "source": [
    "Формы прошедшего времени собирались про помощи https://github.com/twintproject/twint"
   ]
  },
  {
   "cell_type": "code",
   "execution_count": null,
   "id": "1592632b",
   "metadata": {},
   "outputs": [],
   "source": [
    "import nest_asyncio\n",
    "\n",
    "nest_asyncio.apply()"
   ]
  },
  {
   "cell_type": "code",
   "execution_count": null,
   "id": "09432674",
   "metadata": {},
   "outputs": [],
   "source": [
    "import twint"
   ]
  },
  {
   "cell_type": "markdown",
   "id": "9bdac9d3",
   "metadata": {},
   "source": [
    "### Пример запроса:"
   ]
  },
  {
   "cell_type": "code",
   "execution_count": null,
   "id": "cd45308e",
   "metadata": {},
   "outputs": [],
   "source": [
    "c = twint.Config()\n",
    "c.Lang = \"ru\"\n",
    "c.Search = ['осилили']\n",
    "c.Hide_output = True\n",
    "c.Pandas = True\n",
    "c.Since = '2023-04-13'\n",
    "c.until= '2023-04-20'\n",
    "c.Limit= 1000\n",
    "# Run\n",
    "twint.run.Search(c)\n",
    "Tweets_df = twint.storage.panda.Tweets_df\n",
    "Tweets_df.to_csv('осилили.csv', encoding='utf-8')"
   ]
  },
  {
   "cell_type": "markdown",
   "id": "9525fc40",
   "metadata": {},
   "source": [
    "Формы будущего времени собирались при помощи https://github.com/twintproject/twint-zero (на Go)"
   ]
  },
  {
   "cell_type": "markdown",
   "id": "bb9137af",
   "metadata": {},
   "source": [
    "### Пример запроса:"
   ]
  },
  {
   "cell_type": "code",
   "execution_count": null,
   "id": "1992d94b",
   "metadata": {},
   "outputs": [],
   "source": [
    "go run main.go -Query \"ниасилил\" since: 2023-04-13 until: 2023-04-20 -Instance $INSTANCE -Format \"csv\" > output.csv"
   ]
  }
 ],
 "metadata": {
  "kernelspec": {
   "display_name": "Python 3 (ipykernel)",
   "language": "python",
   "name": "python3"
  },
  "language_info": {
   "codemirror_mode": {
    "name": "ipython",
    "version": 3
   },
   "file_extension": ".py",
   "mimetype": "text/x-python",
   "name": "python",
   "nbconvert_exporter": "python",
   "pygments_lexer": "ipython3",
   "version": "3.11.3"
  }
 },
 "nbformat": 4,
 "nbformat_minor": 5
}
